{
 "cells": [
  {
   "cell_type": "code",
   "execution_count": 1,
   "id": "2498a614-1980-463a-b8ca-cf7b138fa955",
   "metadata": {},
   "outputs": [],
   "source": [
    "# Load library\n",
    "import numpy as np"
   ]
  },
  {
   "cell_type": "code",
   "execution_count": 2,
   "id": "3d055b80-cb97-48bc-9d72-42b2d26e38f7",
   "metadata": {},
   "outputs": [],
   "source": [
    "# Create matrix\n",
    "matrix = np.array([[1, 2, 3],\n",
    "[4, 5, 6],\n",
    "[7, 8, 9]])"
   ]
  },
  {
   "cell_type": "code",
   "execution_count": 3,
   "id": "c67bb20d-8adc-462a-bec1-b16d0694c76f",
   "metadata": {},
   "outputs": [
    {
     "data": {
      "text/plain": [
       "array([1, 2, 3, 4, 5, 6, 7, 8, 9])"
      ]
     },
     "execution_count": 3,
     "metadata": {},
     "output_type": "execute_result"
    }
   ],
   "source": [
    "# Flatten matrix\n",
    "matrix.flatten()"
   ]
  },
  {
   "cell_type": "code",
   "execution_count": 4,
   "id": "81e5b4d0-28da-419b-9609-603e83f9d68e",
   "metadata": {},
   "outputs": [
    {
     "data": {
      "text/plain": [
       "array([[1, 2, 3, 4, 5, 6, 7, 8, 9]])"
      ]
     },
     "execution_count": 4,
     "metadata": {},
     "output_type": "execute_result"
    }
   ],
   "source": [
    "matrix.reshape(1, -1)"
   ]
  },
  {
   "cell_type": "code",
   "execution_count": 5,
   "id": "f395a13b-dda4-4649-9253-2dc04fd83b76",
   "metadata": {},
   "outputs": [],
   "source": [
    "# Create one matrix\n",
    "matrix_a = np.array([[1, 2],\n",
    "[3, 4]])"
   ]
  },
  {
   "cell_type": "code",
   "execution_count": 6,
   "id": "76a27365-01ff-4aed-ab97-90cd6f18ebfd",
   "metadata": {},
   "outputs": [],
   "source": [
    "# Create a second matrix\n",
    "matrix_b = np.array([[5, 6],\n",
    "[7, 8]])"
   ]
  },
  {
   "cell_type": "code",
   "execution_count": 7,
   "id": "951cd2c5-6a13-490b-8d75-fe3d8ab765cf",
   "metadata": {},
   "outputs": [],
   "source": [
    "# Create a list of matrices\n",
    "matrix_list = [matrix_a, matrix_b]"
   ]
  },
  {
   "cell_type": "code",
   "execution_count": 8,
   "id": "c9c982c2-349a-48d9-acbd-67462bb6fe79",
   "metadata": {},
   "outputs": [
    {
     "data": {
      "text/plain": [
       "array([1, 2, 3, 4, 5, 6, 7, 8])"
      ]
     },
     "execution_count": 8,
     "metadata": {},
     "output_type": "execute_result"
    }
   ],
   "source": [
    "# Flatten the entire list of matrices\n",
    "np.ravel(matrix_list)"
   ]
  }
 ],
 "metadata": {
  "kernelspec": {
   "display_name": "Python 3 (ipykernel)",
   "language": "python",
   "name": "python3"
  },
  "language_info": {
   "codemirror_mode": {
    "name": "ipython",
    "version": 3
   },
   "file_extension": ".py",
   "mimetype": "text/x-python",
   "name": "python",
   "nbconvert_exporter": "python",
   "pygments_lexer": "ipython3",
   "version": "3.12.3"
  }
 },
 "nbformat": 4,
 "nbformat_minor": 5
}
